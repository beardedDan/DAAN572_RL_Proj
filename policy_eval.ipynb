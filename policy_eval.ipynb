{
 "cells": [
  {
   "cell_type": "code",
   "execution_count": 101,
   "id": "541f9e61",
   "metadata": {},
   "outputs": [],
   "source": [
    "import os\n",
    "import sys\n",
    "import numpy as np\n",
    "np.random.seed(123)\n",
    "import matplotlib.pyplot as plt\n",
    "from collections import deque\n",
    "import gym\n",
    "import torch\n",
    "import torch.nn as nn\n",
    "import torch.optim as optim\n",
    "from torch.distributions import Categorical\n",
    "from itertools import count\n",
    "import random\n",
    "import scipy.stats as stats\n",
    "from tqdm import tqdm\n",
    "import math \n",
    "from simglucose.simulation.env import T1DSimEnv\n",
    "from simglucose.sensor.cgm import CGMSensor\n",
    "from simglucose.actuator.pump import InsulinPump\n",
    "from simglucose.patient.t1dpatient import T1DPatient\n",
    "from simglucose.simulation.scenario import CustomScenario\n",
    "from simglucose.simulation.sim_engine import SimObj, sim, batch_sim\n",
    "from simglucose.simulation.rendering import Viewer\n",
    "from collections import namedtuple\n",
    "from datetime import timedelta\n",
    "from datetime import datetime\n",
    "now = datetime.now()\n",
    "start_time = datetime.combine(now.date(), datetime.min.time())\n",
    "\n",
    "from DAAN572_Project.policies import ContinuousPolicy\n",
    "from DAAN572_Project.utils import compute_loss\n",
    "from DAAN572_Project.utils import CVGA_score"
   ]
  },
  {
   "cell_type": "code",
   "execution_count": 102,
   "id": "bab3de9d",
   "metadata": {},
   "outputs": [
    {
     "name": "stdout",
     "output_type": "stream",
     "text": [
      "cuda\n"
     ]
    }
   ],
   "source": [
    "np.set_printoptions(precision=4)\n",
    "np.set_printoptions(suppress=True)\n",
    "\n",
    "# configure module & syspath\n",
    "module_path = os.path.abspath(os.path.join('../'))\n",
    "if module_path not in sys.path:\n",
    "    sys.path.append(module_path)\n",
    "\n",
    "# set device    \n",
    "device = torch.device('cuda' if torch.cuda.is_available() else 'cpu')\n",
    "print(device)"
   ]
  },
  {
   "cell_type": "code",
   "execution_count": 103,
   "id": "b61d2778",
   "metadata": {},
   "outputs": [
    {
     "data": {
      "text/plain": [
       "ContinuousPolicy(\n",
       "  (linear1): Linear(in_features=63, out_features=256, bias=True)\n",
       "  (linear2): Linear(in_features=256, out_features=256, bias=True)\n",
       "  (mean): Linear(in_features=256, out_features=1, bias=True)\n",
       "  (log_std): Linear(in_features=256, out_features=1, bias=True)\n",
       ")"
      ]
     },
     "execution_count": 103,
     "metadata": {},
     "output_type": "execute_result"
    }
   ],
   "source": [
    "rewards_queue = deque()\n",
    "rewards_ma = list()\n",
    "run_duration = []\n",
    "total_loss = []\n",
    "state_lookback = 20\n",
    "def get_num_params(lb):\n",
    "    parms = (lb*3)+3\n",
    "    return parms\n",
    "num_state_features = get_num_params(state_lookback)\n",
    "pi = ContinuousPolicy(63) \n",
    "pi.load_state_dict(torch.load('cont_policy_net3'))\n",
    "pi.eval()\n"
   ]
  },
  {
   "cell_type": "code",
   "execution_count": 106,
   "id": "3db9bde8",
   "metadata": {},
   "outputs": [],
   "source": [
    "# pi.rewards = list()\n",
    "# pi.log_probabilities = list()"
   ]
  },
  {
   "cell_type": "code",
   "execution_count": 368,
   "id": "c6cb83ef",
   "metadata": {},
   "outputs": [
    {
     "data": {
      "text/plain": [
       "observation(Gsub=149.02)"
      ]
     },
     "execution_count": 368,
     "metadata": {},
     "output_type": "execute_result"
    }
   ],
   "source": [
    "patient = T1DPatient.withName('adolescent#001')\n",
    "sensor = CGMSensor.withName('Dexcom', seed=1)\n",
    "pump = InsulinPump.withName('Insulet')\n",
    "env.reset()\n",
    "\n",
    "scenario = CustomScenario(start_time=start_time, scenario=scen)\n",
    "env = T1DSimEnv(patient, sensor, pump, scenario)\n",
    "env.patient.observation\n"
   ]
  },
  {
   "cell_type": "code",
   "execution_count": 369,
   "id": "b01b2fcc",
   "metadata": {},
   "outputs": [],
   "source": [
    "max_trajectory_length = 100\n",
    "discount_factor = 0.95\n",
    "calories = 150\n",
    "scen = [(1,calories), (5, calories), (9, calories*1.5), (13, calories), (17,calories), (21,calories)]\n"
   ]
  },
  {
   "cell_type": "code",
   "execution_count": 370,
   "id": "0647b4b9",
   "metadata": {},
   "outputs": [
    {
     "name": "stdout",
     "output_type": "stream",
     "text": [
      "(136.82190103424796, 322.01306426206617)\n",
      "Complete\n"
     ]
    }
   ],
   "source": [
    "\n",
    "####################################\n",
    "### INSTANTIATE OBSERVATION VARS ###\n",
    "####################################\n",
    "\n",
    "observation = env.patient.observation[0]\n",
    "observation = ((env.patient.observation[0]-39))/400\n",
    "observation_lag = observation\n",
    "observation_change = observation - observation_lag        \n",
    "observation_hist = np.zeros(state_lookback)\n",
    "for i in range(state_lookback):\n",
    "    observation_hist[i] = observation_change\n",
    "observation_hist_norm = observation_hist\n",
    "\n",
    "\n",
    "#######################################\n",
    "### INSTANTIATE ACTION HISTORY VARS ###\n",
    "#######################################\n",
    "insulin = 0.025\n",
    "insulin_norm = insulin / 30\n",
    "insulin_lag = insulin_norm\n",
    "insulin_hist = np.zeros(state_lookback)\n",
    "for i in range(state_lookback):\n",
    "    insulin_hist[i] = insulin_norm\n",
    "insulin_hist_norm = insulin_hist\n",
    "\n",
    "\n",
    "##############################################\n",
    "### INSTANTIATE PLANNED MEAL HISTORY ARRAY ###\n",
    "##############################################\n",
    "planned_meal = env.patient.planned_meal\n",
    "planned_meal_hist = np.zeros(state_lookback)\n",
    "planned_meal_hist_norm = planned_meal_hist\n",
    "planned_meal = 0\n",
    "planned_meal_lag = 0\n",
    "\n",
    "\n",
    "################################################\n",
    "### INSTANTIATE CUSTOM REWARD FUNCTION ARRAY ###\n",
    "################################################\n",
    "CVGA_scores = []\n",
    "running_bg = []\n",
    "total_rewards = []\n",
    "unobserved_CVGA_scores = np.zeros(8)    \n",
    "for i in range(8):\n",
    "    unobserved_CVGA_scores[i] = -65    \n",
    "\n",
    "#################################\n",
    "### INSTANTIATE CUR STATE VAR ###\n",
    "#################################\n",
    "\n",
    "state = np.concatenate((observation, observation_hist_norm, insulin_norm, insulin_hist_norm, planned_meal, planned_meal_hist_norm), axis=None).squeeze()\n",
    "\n",
    "\n",
    "for t in range(max_trajectory_length):\n",
    "\n",
    "    ########################\n",
    "    ### DETERMINE ACTION ###\n",
    "    ########################\n",
    "\n",
    "    insulin = pi.act(torch.from_numpy(state.astype(np.float32)))\n",
    "\n",
    "\n",
    "    ######################\n",
    "    ### PERFORM ACTION ###\n",
    "    ######################\n",
    "    observation, reward, done, _ = env.step(insulin)  \n",
    "    running_bg.append(observation)\n",
    "\n",
    "    ##########################################\n",
    "    ### POPULATE OBSERVATION HISTORY ARRAY ###\n",
    "    ##########################################\n",
    "    observation = (observation[0]-39)/400           # normalize glucose level to a value between 0 and 1\n",
    "    observation_chg = observation - observation_lag   # create change value since previous time period\n",
    "    observation_hist = np.roll(observation_hist,1)    # cycle the array by 1 position and move the oldest value from the rightmost position to first position\n",
    "    observation_hist[0] = observation_chg             # replace first value in array (aka - the oldest value) with the most recent glucose change value\n",
    "    observation_hist_norm = observation_hist     \n",
    "\n",
    "\n",
    "    #####################################\n",
    "    ### POPULATE ACTION HISTORY ARRAY ###\n",
    "    #####################################\n",
    "    insulin_norm = insulin / 30                       # normalize insulin val to restrict it to between 0 and 1\n",
    "    insulin_chg = insulin_norm - insulin_lag               # create action change value since prev time period\n",
    "    insulin_hist = np.roll(insulin_hist,1)            # cycle action array by 1 position move the oldest value from the rightmost position to the first position\n",
    "    insulin_hist[0] = insulin_chg                     # replace first value in array (aka - the oldest value) with the most recent action change value\n",
    "    insulin_hist_norm = insulin_hist\n",
    "\n",
    "    \n",
    "    ###########################################\n",
    "    ### POPULATE PLANNED MEAL HISTORY ARRAY ###\n",
    "    ###########################################\n",
    "    planned_meal = env.patient.planned_meal        # extract planned meal value of current state\n",
    "    planned_meal_chg = planned_meal - planned_meal_lag # create change value of planned meal since previous state\n",
    "    planned_meal_hist = np.roll(planned_meal_hist,1)   # cycle planed meal array by 1 position move the oldest value from the rightmost position to the first position\n",
    "    planned_meal_hist[0] = planned_meal_chg            # replace first value in array (aka - the oldest value) with the most recent action change value\n",
    "    if np.max(planned_meal_hist) == 0:\n",
    "        planned_meal_hist_norm = np.zeros(state_lookback)\n",
    "    else:\n",
    "        planned_meal_hist_norm = planned_meal_hist / np.linalg.norm(planned_meal_hist)     \n",
    "\n",
    "\n",
    "    ####################################\n",
    "    ### POPULATE CURRENT STATE ARRAY ###\n",
    "    ####################################\n",
    "    \n",
    "    state = np.concatenate((observation,observation_hist_norm,insulin_norm,insulin_hist_norm,planned_meal,planned_meal_hist_norm),axis=None).squeeze()\n",
    "\n",
    "    #####################################################\n",
    "    ### MANIPULATE REWARDS VALUE WITH CUSTOM FUNCTION ###\n",
    "    #####################################################\n",
    "    \n",
    "    variability_score = 0\n",
    "    if t > 1 and t % 60 == 0:\n",
    "        min_bg = np.percentile(running_bg, 2.5) \n",
    "        max_bg = np.percentile(running_bg, 97.5) \n",
    "        bg_range = (min_bg,max_bg)\n",
    "        print(bg_range)\n",
    "        variability_score = -CVGA_score(bg_range)\n",
    "        period_idx = int(t/60) - 1\n",
    "        unobserved_CVGA_scores[period_idx] = 0\n",
    "        running_bg = []      \n",
    "\n",
    "    if t == max_trajectory_length:\n",
    "        done = TRUE\n",
    "        reward = reward + sum(unobserved_CVGA_scores)  \n",
    "\n",
    "    reward = reward + variability_score     \n",
    "\n",
    "    \n",
    "    #######################################\n",
    "    ### APPEND REWARDS TO REWARDS ARRAY ###\n",
    "    #######################################\n",
    "    total_rewards.append(reward)\n",
    "\n",
    "\n",
    "    ######################################################################\n",
    "    ### REPOPULATE LAG VARS WITH CUR STATE VALS IN PREP OF NEXT ACTION ###\n",
    "    ######################################################################\n",
    "    observation_lag = observation\n",
    "    planned_meal_lag = planned_meal\n",
    "    insulin_lag = insulin_norm\n",
    "\n",
    "           \n",
    "print('Complete')\n",
    "\n"
   ]
  },
  {
   "cell_type": "code",
   "execution_count": 371,
   "id": "220a5078",
   "metadata": {},
   "outputs": [
    {
     "data": {
      "text/plain": [
       "[<matplotlib.lines.Line2D at 0x7f32b58cbdf0>]"
      ]
     },
     "execution_count": 371,
     "metadata": {},
     "output_type": "execute_result"
    },
    {
     "data": {
      "image/png": "[encoded data removed]",
      "text/plain": [
       "<Figure size 640x480 with 1 Axes>"
      ]
     },
     "metadata": {},
     "output_type": "display_data"
    }
   ],
   "source": [
    "plt.plot(env.CGM_hist)\n",
    "plt.plot(env.CHO_hist)"
   ]
  },
  {
   "cell_type": "code",
   "execution_count": 372,
   "id": "debbf8f8",
   "metadata": {},
   "outputs": [
    {
     "data": {
      "text/plain": [
       "[<matplotlib.lines.Line2D at 0x7f32b569d030>]"
      ]
     },
     "execution_count": 372,
     "metadata": {},
     "output_type": "execute_result"
    },
    {
     "data": {
      "image/png": "[encoded data removed]",
      "text/plain": [
       "<Figure size 640x480 with 1 Axes>"
      ]
     },
     "metadata": {},
     "output_type": "display_data"
    }
   ],
   "source": [
    "plt.plot(env.risk_hist)"
   ]
  },
  {
   "cell_type": "code",
   "execution_count": 352,
   "id": "77914380",
   "metadata": {},
   "outputs": [
    {
     "data": {
      "text/plain": [
       "[<matplotlib.lines.Line2D at 0x7f32b5bd2d40>]"
      ]
     },
     "execution_count": 352,
     "metadata": {},
     "output_type": "execute_result"
    },
    {
     "data": {
      "image/png": "[encoded data removed]",
      "text/plain": [
       "<Figure size 640x480 with 1 Axes>"
      ]
     },
     "metadata": {},
     "output_type": "display_data"
    }
   ],
   "source": [
    "plt.plot(env.insulin_hist)"
   ]
  },
  {
   "cell_type": "code",
   "execution_count": 346,
   "id": "00a8e0e3",
   "metadata": {},
   "outputs": [
    {
     "data": {
      "text/plain": [
       "-489.1789987629125"
      ]
     },
     "execution_count": 346,
     "metadata": {},
     "output_type": "execute_result"
    }
   ],
   "source": [
    "sum(total_rewards)"
   ]
  },
  {
   "cell_type": "code",
   "execution_count": null,
   "id": "9e71a401",
   "metadata": {},
   "outputs": [],
   "source": []
  }
 ],
 "metadata": {
  "kernelspec": {
   "display_name": "Python 3",
   "language": "python",
   "name": "python3"
  },
  "language_info": {
   "codemirror_mode": {
    "name": "ipython",
    "version": 3
   },
   "file_extension": ".py",
   "mimetype": "text/x-python",
   "name": "python",
   "nbconvert_exporter": "python",
   "pygments_lexer": "ipython3",
   "version": "3.10.9"
  }
 },
 "nbformat": 4,
 "nbformat_minor": 5
}
